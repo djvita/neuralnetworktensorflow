{
 "cells": [
  {
   "cell_type": "code",
   "execution_count": 1,
   "metadata": {
    "collapsed": true
   },
   "outputs": [],
   "source": [
    "%matplotlib inline"
   ]
  },
  {
   "cell_type": "markdown",
   "metadata": {},
   "source": [
    "# Building a simple neural-network with Keras\n",
    "\n",
    "\n",
    "This is a simple quick-start in performing digit recognition in a neural network in Keras, for a short tutorial at the University of Toronto. It is largely based on the `mnist_mlp.py` example from the Keras source.\n"
   ]
  },
  {
   "cell_type": "markdown",
   "metadata": {},
   "source": [
    "## Install prerequisites\n",
    "First steps (instructions for Mac or Linux). You need to install a recent version of Python, plus the packages `keras`, `numpy`, `matplotlib` and `jupyter`.\n",
    "\n",
    "### Install a recent Python\n",
    "\n",
    "If you haven't installed a recent Python I recommend installing via Homebrew on a Mac from http://brew.sh and then installing Python via `brew install python`.\n",
    "\n",
    "\n",
    "### Configure a virtual environment\n",
    "\n",
    "You can install the packages globally, but I suggest installing them in a `virtualenv` virtual environment that basically encapsulates a full isolated Python environment. First you'll need to install a Python package manager called `pip` thus:\n",
    "\n",
    "    easy_install pip\n",
    "    \n",
    "(If you get a permissions error, try adding a `sudo` to the beginning, so `sudo easy_install pip`)\n",
    "\n",
    "Now install virtualenv thus:\n",
    "\n",
    "    pip install virtualenv\n",
    "\n",
    "Navigate to your home directory `cd ~` and create a virtual environment. We'll call it `kerasenv`\n",
    "\n",
    "    virtualenv kerasenv\n",
    "\n",
    "Now, to switch your shell environment to be within the env:\n",
    "\n",
    "    source kerasenv/bin/activate\n",
    "    \n",
    "Great: now you can install the other prerequisites into this environment.\n",
    "\n",
    "    pip install numpy jupyter keras matplotlib\n",
    "    \n",
    "\n",
    "## Open a new notebook\n",
    "\n",
    "Now that everything's installed, you can open one of these web-based Python environments with the following command:\n",
    "\n",
    "    ipython notebook\n",
    "    \n",
    "Create a new Python notebook from the \"New\" menu at the top-right:\n",
    "\n",
    "<img src=\"newnotebook.png\">\n",
    "\n",
    "You should now be able to run Python in your browser!"
   ]
  },
  {
   "cell_type": "markdown",
   "metadata": {},
   "source": [
    "## Time to build a neural network!\n",
    "First let's import some prerequisites"
   ]
  },
  {
   "cell_type": "code",
   "execution_count": 2,
   "metadata": {
    "collapsed": false
   },
   "outputs": [
    {
     "name": "stderr",
     "output_type": "stream",
     "text": [
      "Using TensorFlow backend.\n"
     ]
    }
   ],
   "source": [
    "import numpy as np\n",
    "import matplotlib.pyplot as plt\n",
    "plt.rcParams['figure.figsize'] = (7,7) # Make the figures a bit bigger\n",
    "\n",
    "from keras.datasets import mnist\n",
    "from keras.models import Sequential\n",
    "from keras.layers.core import Dense, Dropout, Activation\n",
    "from keras.utils import np_utils"
   ]
  },
  {
   "cell_type": "markdown",
   "metadata": {},
   "source": [
    "## Load training data"
   ]
  },
  {
   "cell_type": "code",
   "execution_count": 3,
   "metadata": {
    "collapsed": false
   },
   "outputs": [
    {
     "name": "stdout",
     "output_type": "stream",
     "text": [
      "('X_train original shape', (60000, 28, 28))\n",
      "('y_train original shape', (60000,))\n"
     ]
    }
   ],
   "source": [
    "nb_classes = 10\n",
    "\n",
    "# the data, shuffled and split between tran and test sets\n",
    "(X_train, y_train), (X_test, y_test) = mnist.load_data()\n",
    "print(\"X_train original shape\", X_train.shape)\n",
    "print(\"y_train original shape\", y_train.shape)"
   ]
  },
  {
   "cell_type": "markdown",
   "metadata": {},
   "source": [
    "Let's look at some examples of the training data"
   ]
  },
  {
   "cell_type": "code",
   "execution_count": 4,
   "metadata": {
    "collapsed": false
   },
   "outputs": [
    {
     "data": {
      "image/png": "[encoded data removed]",
      "text/plain": [
       "<matplotlib.figure.Figure at 0x7f1522233ed0>"
      ]
     },
     "metadata": {},
     "output_type": "display_data"
    }
   ],
   "source": [
    "for i in range(9):\n",
    "    plt.subplot(3,3,i+1)\n",
    "    plt.imshow(X_train[i], cmap='gray', interpolation='none')\n",
    "    plt.title(\"Class {}\".format(y_train[i]))"
   ]
  },
  {
   "cell_type": "markdown",
   "metadata": {},
   "source": [
    "## Format the data for training\n",
    "Our neural-network is going to take a single vector for each training example, so we need to reshape the input so that each 28x28 image becomes a single 784 dimensional vector. We'll also scale the inputs to be in the range [0-1] rather than [0-255]"
   ]
  },
  {
   "cell_type": "code",
   "execution_count": 5,
   "metadata": {
    "collapsed": false
   },
   "outputs": [
    {
     "name": "stdout",
     "output_type": "stream",
     "text": [
      "('Training matrix shape', (60000, 784))\n",
      "('Testing matrix shape', (10000, 784))\n"
     ]
    }
   ],
   "source": [
    "X_train = X_train.reshape(60000, 784)\n",
    "X_test = X_test.reshape(10000, 784)\n",
    "X_train = X_train.astype('float32')\n",
    "X_test = X_test.astype('float32')\n",
    "X_train /= 255\n",
    "X_test /= 255\n",
    "print(\"Training matrix shape\", X_train.shape)\n",
    "print(\"Testing matrix shape\", X_test.shape)"
   ]
  },
  {
   "cell_type": "markdown",
   "metadata": {},
   "source": [
    "Modify the target matrices to be in the one-hot format, i.e.\n",
    "\n",
    "```\n",
    "0 -> [1, 0, 0, 0, 0, 0, 0, 0, 0]\n",
    "1 -> [0, 1, 0, 0, 0, 0, 0, 0, 0]\n",
    "2 -> [0, 0, 1, 0, 0, 0, 0, 0, 0]\n",
    "etc.\n",
    "```"
   ]
  },
  {
   "cell_type": "code",
   "execution_count": 6,
   "metadata": {
    "collapsed": false
   },
   "outputs": [],
   "source": [
    "Y_train = np_utils.to_categorical(y_train, nb_classes)\n",
    "Y_test = np_utils.to_categorical(y_test, nb_classes)"
   ]
  },
  {
   "cell_type": "markdown",
   "metadata": {},
   "source": [
    "# Build the neural network\n",
    "Build the neural-network. Here we'll do a simple 3 layer fully connected network.\n",
    "<img src=\"figure.png\" />"
   ]
  },
  {
   "cell_type": "code",
   "execution_count": 7,
   "metadata": {
    "collapsed": true
   },
   "outputs": [],
   "source": [
    "import tensorflow as tf\n",
    "import keras\n",
    "tf.python.control_flow_ops = tf\n",
    "\n",
    "model = keras.models.Sequential()"
   ]
  },
  {
   "cell_type": "code",
   "execution_count": 8,
   "metadata": {
    "collapsed": false
   },
   "outputs": [],
   "source": [
    "model = Sequential()\n",
    "model.add(Dense(512, input_shape=(784,)))\n",
    "model.add(Activation('sigmoid')) # An \"activation\" is just a non-linear function applied to the output\n",
    "                              # of the layer above. Here, with a \"rectified linear unit\",\n",
    "                              # we clamp all values below 0 to 0.\n",
    "                           \n",
    "model.add(Dropout(0.2))   # Dropout helps protect the model from memorizing or \"overfitting\" the training data\n",
    "model.add(Dense(512))\n",
    "model.add(Activation('sigmoid'))\n",
    "model.add(Dropout(0.2))\n",
    "model.add(Dense(10))\n",
    "model.add(Activation('tanh')) # This special \"softmax\" activation among other things,\n",
    "                                 # ensures the output is a valid probaility distribution, that is\n",
    "                                 # that its values are all non-negative and sum to 1."
   ]
  },
  {
   "cell_type": "markdown",
   "metadata": {},
   "source": [
    "## Compile the model\n",
    "Keras is built on top of Theano (and now TensorFlow as well), both packages that allow you to define a *computation graph* in Python, which they then compile and run efficiently on the CPU or GPU without the overhead of the Python interpreter.\n",
    "\n",
    "When compiing a model, Keras asks you to specify your **loss function** and your **optimizer**. The loss function we'll use here is called *mean_squared_error*, and is a loss function well-suited to comparing two probability distributions.\n",
    "\n",
    "Here our predictions are probability distributions across the ten different digits (e.g. \"we're 80% confident this image is a 3, 10% sure it's an 8, 5% it's a 2, etc.\"), and the target is a probability distribution with 100% for the correct category, and 0 for everything else. The cross-entropy is a measure of how different your predicted distribution is from the target distribution. [More detail at Wikipedia](https://en.wikipedia.org/wiki/Cross_entropy)\n",
    "\n",
    "The optimizer helps determine how quickly the model learns, how resistent it is to getting \"stuck\" or \"blowing up\". We won't discuss this in too much detail, but \"adam\" is often a good choice (developed here at U of T)."
   ]
  },
  {
   "cell_type": "code",
   "execution_count": 9,
   "metadata": {
    "collapsed": true
   },
   "outputs": [],
   "source": [
    "model.compile(loss='mean_squared_error', metrics=[\"accuracy\"], optimizer='sgd')"
   ]
  },
  {
   "cell_type": "markdown",
   "metadata": {},
   "source": [
    "## Train the model!\n",
    "This is the fun part: you can feed the training data loaded in earlier into this model and it will learn to classify digits"
   ]
  },
  {
   "cell_type": "code",
   "execution_count": 10,
   "metadata": {
    "collapsed": false,
    "scrolled": true
   },
   "outputs": [
    {
     "name": "stderr",
     "output_type": "stream",
     "text": [
      "/usr/local/lib/python2.7/dist-packages/keras/models.py:603: UserWarning: The \"show_accuracy\" argument is deprecated, instead you should pass the \"accuracy\" metric to the model at compile time:\n",
      "`model.compile(optimizer, loss, metrics=[\"accuracy\"])`\n",
      "  warnings.warn('The \"show_accuracy\" argument is deprecated, '\n"
     ]
    },
    {
     "name": "stdout",
     "output_type": "stream",
     "text": [
      "Train on 60000 samples, validate on 10000 samples\n",
      "Epoch 1/10\n",
      "60000/60000 [==============================] - 29s - loss: 0.1827 - acc: 0.1094 - val_loss: 0.0860 - val_acc: 0.3412\n",
      "Epoch 2/10\n",
      "60000/60000 [==============================] - 26s - loss: 0.1472 - acc: 0.1281 - val_loss: 0.0821 - val_acc: 0.4742\n",
      "Epoch 3/10\n",
      "60000/60000 [==============================] - 26s - loss: 0.1268 - acc: 0.1447 - val_loss: 0.0797 - val_acc: 0.6433\n",
      "Epoch 4/10\n",
      "60000/60000 [==============================] - 27s - loss: 0.1130 - acc: 0.1694 - val_loss: 0.0779 - val_acc: 0.6027\n",
      "Epoch 5/10\n",
      "60000/60000 [==============================] - 30s - loss: 0.1047 - acc: 0.1931 - val_loss: 0.0767 - val_acc: 0.6816\n",
      "Epoch 6/10\n",
      "60000/60000 [==============================] - 31s - loss: 0.0984 - acc: 0.2193 - val_loss: 0.0757 - val_acc: 0.7280\n",
      "Epoch 7/10\n",
      "60000/60000 [==============================] - 32s - loss: 0.0939 - acc: 0.2451 - val_loss: 0.0748 - val_acc: 0.7116\n",
      "Epoch 8/10\n",
      "60000/60000 [==============================] - 32s - loss: 0.0907 - acc: 0.2679 - val_loss: 0.0740 - val_acc: 0.7258\n",
      "Epoch 9/10\n",
      "60000/60000 [==============================] - 32s - loss: 0.0882 - acc: 0.2888 - val_loss: 0.0733 - val_acc: 0.7212\n",
      "Epoch 10/10\n",
      "60000/60000 [==============================] - 33s - loss: 0.0861 - acc: 0.3128 - val_loss: 0.0727 - val_acc: 0.6622\n"
     ]
    },
    {
     "data": {
      "text/plain": [
       "<keras.callbacks.History at 0x7f151fc109d0>"
      ]
     },
     "execution_count": 10,
     "metadata": {},
     "output_type": "execute_result"
    }
   ],
   "source": [
    "model.fit(X_train, Y_train,\n",
    "          batch_size=50, nb_epoch=10,\n",
    "          show_accuracy=True, verbose=1,\n",
    "          validation_data=(X_test, Y_test))"
   ]
  },
  {
   "cell_type": "code",
   "execution_count": 11,
   "metadata": {
    "collapsed": false
   },
   "outputs": [
    {
     "name": "stdout",
     "output_type": "stream",
     "text": [
      "____________________________________________________________________________________________________\n",
      "Layer (type)                     Output Shape          Param #     Connected to                     \n",
      "====================================================================================================\n",
      "dense_1 (Dense)                  (None, 512)           401920      dense_input_1[0][0]              \n",
      "____________________________________________________________________________________________________\n",
      "activation_1 (Activation)        (None, 512)           0           dense_1[0][0]                    \n",
      "____________________________________________________________________________________________________\n",
      "dropout_1 (Dropout)              (None, 512)           0           activation_1[0][0]               \n",
      "____________________________________________________________________________________________________\n",
      "dense_2 (Dense)                  (None, 512)           262656      dropout_1[0][0]                  \n",
      "____________________________________________________________________________________________________\n",
      "activation_2 (Activation)        (None, 512)           0           dense_2[0][0]                    \n",
      "____________________________________________________________________________________________________\n",
      "dropout_2 (Dropout)              (None, 512)           0           activation_2[0][0]               \n",
      "____________________________________________________________________________________________________\n",
      "dense_3 (Dense)                  (None, 10)            5130        dropout_2[0][0]                  \n",
      "____________________________________________________________________________________________________\n",
      "activation_3 (Activation)        (None, 10)            0           dense_3[0][0]                    \n",
      "====================================================================================================\n",
      "Total params: 669706\n",
      "____________________________________________________________________________________________________\n"
     ]
    }
   ],
   "source": [
    "model.summary()"
   ]
  },
  {
   "cell_type": "code",
   "execution_count": 12,
   "metadata": {
    "collapsed": false
   },
   "outputs": [
    {
     "data": {
      "text/plain": [
       "[array([[ 0.04114288,  0.06149729, -0.03954307, ...,  0.03892659,\n",
       "          0.00058991, -0.00071119],\n",
       "        [-0.01310046, -0.01321189, -0.031789  , ..., -0.04138698,\n",
       "          0.00432351, -0.01937248],\n",
       "        [ 0.03986607, -0.04659579,  0.04025964, ..., -0.02893918,\n",
       "          0.05361407, -0.0131489 ],\n",
       "        ..., \n",
       "        [ 0.05277752, -0.04489231,  0.00242087, ..., -0.0462844 ,\n",
       "          0.01221089,  0.03302176],\n",
       "        [-0.05814122, -0.00551001,  0.02137565, ...,  0.01311077,\n",
       "          0.02820224,  0.06138447],\n",
       "        [ 0.06492226,  0.01145504,  0.06176996, ...,  0.02002548,\n",
       "          0.02294621,  0.05809264]], dtype=float32),\n",
       " array([ -6.06688322e-04,   9.10184695e-04,  -8.39227170e-04,\n",
       "          1.10780227e-03,   1.31803472e-03,  -3.36573285e-04,\n",
       "         -8.81497108e-04,   6.61166501e-04,  -2.23316555e-03,\n",
       "          3.93472007e-03,   1.70085928e-03,  -1.34080357e-03,\n",
       "          2.65036710e-03,   2.09520059e-03,  -2.69255252e-04,\n",
       "          4.16535744e-03,   8.88157694e-04,   2.12878617e-03,\n",
       "         -1.93019165e-03,  -1.56894312e-04,  -1.11273420e-03,\n",
       "          4.69227275e-03,   4.37542418e-04,   5.36119449e-04,\n",
       "          3.21392756e-04,  -1.34968851e-03,  -3.87169363e-04,\n",
       "          2.44875834e-03,   1.90668521e-04,  -1.17747311e-03,\n",
       "          8.28871853e-04,  -7.22952129e-04,  -7.21838733e-04,\n",
       "         -3.85436672e-03,   4.31747967e-03,  -1.48088054e-03,\n",
       "          2.72256089e-03,   2.63748271e-03,  -3.53087875e-04,\n",
       "          1.08052208e-03,   3.00088106e-03,   3.00505711e-03,\n",
       "          1.68671843e-03,  -3.64383712e-04,   1.12820062e-05,\n",
       "          3.71175609e-03,   5.10671875e-04,   3.08167515e-03,\n",
       "          2.38300674e-03,   2.21586530e-03,  -1.16887887e-03,\n",
       "          1.90447131e-03,   2.21567694e-03,   2.28235777e-03,\n",
       "          7.00252771e-04,   2.55213905e-04,  -2.90701119e-03,\n",
       "          3.37958848e-03,   4.19105403e-03,   2.44515506e-03,\n",
       "         -5.89687668e-04,   4.41375002e-03,  -9.57388023e-04,\n",
       "         -1.50674360e-03,   1.57806277e-03,  -3.81808961e-04,\n",
       "          1.81337469e-03,   1.66376296e-03,   8.42398382e-04,\n",
       "          2.08002888e-03,  -2.45597400e-03,   2.18406529e-03,\n",
       "         -2.04057386e-03,  -1.98607100e-03,   4.73865366e-04,\n",
       "         -1.30615241e-04,  -1.44333637e-03,   5.57445921e-04,\n",
       "         -6.77698350e-04,   2.20048008e-03,   3.28981150e-05,\n",
       "         -7.56736787e-04,   3.03911569e-04,   3.08442581e-03,\n",
       "          2.92798970e-03,  -2.52949609e-03,   8.62367684e-04,\n",
       "         -2.96241650e-03,   1.38616131e-03,   2.81930319e-04,\n",
       "         -2.60680821e-03,   1.79461273e-03,   1.85418373e-03,\n",
       "          1.57242455e-03,   6.44570822e-03,   2.02127127e-03,\n",
       "         -7.32898538e-04,   1.82733813e-03,  -2.14084983e-03,\n",
       "         -1.90873793e-03,  -1.78220193e-03,  -2.71971757e-03,\n",
       "         -3.08106624e-04,   7.16438168e-04,   2.00376613e-03,\n",
       "          1.42780691e-05,   2.60079454e-04,  -6.73336384e-04,\n",
       "         -1.40981528e-03,  -6.97137497e-04,   3.39853141e-04,\n",
       "         -1.74119847e-03,   2.49749515e-03,  -8.32137128e-04,\n",
       "          4.30617714e-04,   2.16846610e-03,  -7.12149893e-04,\n",
       "          1.56740098e-05,   1.02810585e-03,  -1.24297803e-04,\n",
       "          2.62213964e-03,   3.24079557e-03,   3.84753617e-03,\n",
       "          2.90942565e-03,   1.28858385e-03,   3.94290593e-03,\n",
       "          1.99332484e-03,   1.70052843e-03,   3.37042101e-03,\n",
       "          1.15873327e-03,   1.41263858e-03,   2.13180180e-03,\n",
       "         -5.91758988e-04,   1.51380349e-03,   2.49964814e-03,\n",
       "          4.42605378e-04,   3.79332644e-03,   4.14679613e-04,\n",
       "         -1.30057801e-03,  -4.16325856e-05,   1.29404478e-03,\n",
       "          1.03773479e-03,  -4.47125894e-05,   7.90499500e-04,\n",
       "          3.46191856e-03,  -2.31407396e-03,  -1.25735905e-03,\n",
       "         -1.84877880e-03,   3.43188789e-04,   3.85906827e-03,\n",
       "         -1.13346835e-03,  -6.97136798e-04,  -1.56944816e-03,\n",
       "          1.53108209e-03,   2.10792478e-03,   1.25878688e-03,\n",
       "          9.17665020e-04,   2.75444945e-05,  -1.22267031e-03,\n",
       "          6.57568860e-04,   3.76271037e-03,   3.59365670e-03,\n",
       "         -9.88064916e-04,   2.62625166e-03,  -1.20712786e-04,\n",
       "         -2.48818309e-03,   9.70605761e-05,   1.67114160e-03,\n",
       "          2.53210729e-03,  -5.54900791e-04,  -4.33142995e-03,\n",
       "         -1.73254532e-03,   1.92384445e-03,   3.93843133e-04,\n",
       "          3.62541503e-03,   1.84760138e-03,   2.06687767e-03,\n",
       "          4.53432370e-03,  -3.26918060e-04,  -4.43268771e-04,\n",
       "          1.18243543e-03,  -3.90045042e-03,   1.68448966e-03,\n",
       "          2.01208121e-03,   1.94370584e-03,  -6.42202562e-04,\n",
       "         -4.05661616e-04,  -1.03217008e-05,  -1.57980330e-03,\n",
       "          2.48292490e-04,  -1.70239818e-03,  -2.69683864e-04,\n",
       "         -2.09829857e-04,   3.62066872e-04,   6.30989845e-04,\n",
       "         -1.71123201e-03,   1.19309244e-03,   1.31030509e-03,\n",
       "         -1.96707505e-03,   2.63975677e-03,  -2.46406271e-04,\n",
       "          1.82116637e-03,  -1.57327123e-03,   1.11038645e-03,\n",
       "          5.65268740e-04,   2.28677690e-03,   9.28031863e-04,\n",
       "          3.52264440e-04,   1.11819233e-03,   1.13790843e-03,\n",
       "          1.54000195e-03,   9.32466122e-04,  -2.35440605e-03,\n",
       "          7.30391359e-04,   1.72506843e-03,  -2.01847358e-03,\n",
       "          2.03654915e-03,   2.63450621e-03,   3.72477155e-03,\n",
       "         -2.47493619e-03,  -9.25491448e-04,  -4.09469474e-04,\n",
       "         -1.41220196e-04,   6.34087366e-04,   6.83318707e-04,\n",
       "          2.37701950e-03,   3.01163597e-03,   1.06597797e-03,\n",
       "          2.11579353e-03,   2.11467035e-04,  -1.40742422e-03,\n",
       "         -1.07259688e-03,   8.12342798e-04,  -3.53990402e-03,\n",
       "          6.14560049e-05,  -1.65315066e-03,  -1.55276223e-03,\n",
       "         -2.10463582e-03,   7.96744891e-04,   1.02564460e-03,\n",
       "          3.18559818e-03,   1.01412938e-03,   9.94373695e-04,\n",
       "          1.88548339e-03,   2.99297459e-03,   5.04269155e-05,\n",
       "          8.04638315e-04,  -5.01560971e-05,   7.00504170e-04,\n",
       "          4.18658834e-04,  -4.83637094e-04,   7.02515012e-04,\n",
       "         -2.32659531e-05,  -4.37296089e-03,   1.41636422e-03,\n",
       "          6.30381750e-03,  -1.25963008e-03,   4.55587870e-05,\n",
       "         -1.48504577e-03,  -2.36762594e-03,   1.80589117e-03,\n",
       "          9.72204376e-04,   6.31586940e-04,  -3.60485457e-04,\n",
       "          2.42561742e-04,   3.21314251e-03,   1.12548012e-04,\n",
       "          1.22583273e-03,  -1.31196168e-03,  -2.15178193e-03,\n",
       "         -4.92415798e-04,   1.17689976e-03,   6.44295185e-04,\n",
       "          2.06358195e-03,  -2.09162128e-03,   1.47877412e-03,\n",
       "         -9.00103652e-04,   3.32718645e-03,  -8.71372176e-04,\n",
       "          5.14074287e-04,   1.79528492e-03,   4.33330832e-04,\n",
       "         -9.16804303e-04,   4.03644936e-03,   2.32410803e-03,\n",
       "          1.55948591e-03,  -5.83834131e-04,   2.80878879e-03,\n",
       "          1.54774718e-03,  -1.04996521e-04,   1.59327604e-03,\n",
       "         -4.25308896e-03,   2.22734339e-03,   1.81167125e-04,\n",
       "          4.00615158e-04,   9.26440640e-04,   8.95035628e-04,\n",
       "         -1.12961535e-03,   1.76333485e-03,   2.84817605e-03,\n",
       "          2.87708687e-03,   5.36649197e-04,   1.51676917e-03,\n",
       "         -3.99569375e-03,  -4.72621265e-04,   1.31649245e-03,\n",
       "         -1.44948368e-03,   2.72047496e-03,   2.71964772e-03,\n",
       "          2.17103225e-04,  -6.79716351e-04,   6.09420473e-04,\n",
       "         -3.89821071e-04,  -5.92527394e-05,  -3.27276830e-05,\n",
       "          1.81036594e-04,   3.06324195e-03,   4.98003326e-04,\n",
       "          1.00979267e-03,   1.49964675e-04,  -4.22016950e-04,\n",
       "          1.16041186e-03,  -5.77036350e-04,  -2.87244772e-03,\n",
       "          1.15156558e-03,   3.83482012e-03,  -1.13665080e-03,\n",
       "         -6.51072420e-04,   1.07245578e-03,  -1.41836575e-03,\n",
       "          9.20997234e-04,   7.39426643e-04,  -2.53386842e-03,\n",
       "          9.38415178e-04,   2.40174728e-03,  -1.63802888e-05,\n",
       "         -3.83994600e-04,  -1.29235664e-03,   6.15459355e-03,\n",
       "          4.77875676e-03,   3.34881386e-03,   8.95688194e-04,\n",
       "         -9.12570511e-04,   4.91955690e-03,   1.19770179e-03,\n",
       "          3.38396034e-03,   5.14415500e-04,   1.51800027e-03,\n",
       "          9.18932201e-04,  -2.32936625e-04,   2.05570273e-03,\n",
       "          5.79141604e-04,   1.83992565e-03,   2.81528395e-04,\n",
       "          9.59168130e-04,   4.19037242e-04,   3.32742609e-04,\n",
       "          1.09322646e-04,   3.73562623e-04,   5.38475579e-03,\n",
       "          1.22028298e-03,   7.16361217e-04,  -2.97834747e-03,\n",
       "         -2.07181531e-03,   3.90955759e-03,   4.21543047e-03,\n",
       "         -2.35792529e-03,   1.18537340e-03,   2.66326847e-03,\n",
       "          2.15677568e-03,   1.89078087e-03,   2.47368822e-04,\n",
       "          1.28233142e-03,   8.95334349e-04,   2.63188989e-03,\n",
       "          1.85415440e-03,   3.54983401e-03,  -9.07949114e-04,\n",
       "          9.85418097e-04,   2.02830601e-03,  -6.13363445e-05,\n",
       "         -5.04277821e-04,   1.51333120e-03,   2.19933703e-04,\n",
       "         -1.54017156e-03,  -1.11166982e-03,   1.10754301e-03,\n",
       "         -5.18350804e-04,   1.52828661e-03,  -1.09823584e-03,\n",
       "          1.48145284e-03,   1.17729139e-03,  -9.31806804e-04,\n",
       "          2.18461710e-03,  -1.15470937e-03,  -5.75839775e-04,\n",
       "          8.82740249e-04,  -3.91405891e-04,   1.70748821e-03,\n",
       "         -5.81947243e-05,  -5.87533403e-04,  -1.33621355e-03,\n",
       "          3.06316558e-03,   5.37548447e-04,   3.45468143e-04,\n",
       "          1.09728088e-03,   4.86902718e-05,   5.93793928e-04,\n",
       "         -7.93875835e-04,  -1.61973271e-03,   4.66612662e-04,\n",
       "          1.78554317e-03,   1.05674502e-04,   4.70550673e-04,\n",
       "          2.11849343e-03,   8.38511682e-04,  -5.52693964e-04,\n",
       "         -4.56189387e-04,   2.67735519e-03,   2.80748913e-03,\n",
       "          3.72795737e-03,  -7.06929364e-04,   3.56951758e-04,\n",
       "          1.39568909e-03,   6.38644386e-04,  -1.05644786e-03,\n",
       "         -1.31486187e-04,   3.24189267e-03,   1.54544821e-03,\n",
       "          3.25467088e-03,  -3.05406866e-03,  -3.06031201e-04,\n",
       "          6.68295601e-04,  -1.45078625e-03,  -1.45363400e-03,\n",
       "          2.90688616e-03,  -1.61332649e-03,   3.07701738e-03,\n",
       "         -2.76734372e-05,   8.75912956e-04,   1.13001955e-03,\n",
       "          1.57228590e-03,   5.87470073e-04,   6.30022201e-04,\n",
       "          8.37867381e-04,  -7.10376014e-04,   2.12463070e-04,\n",
       "          1.72838126e-03,  -1.38316711e-03,  -1.19820482e-03,\n",
       "          1.78870617e-03,   2.39467435e-03,   1.97824929e-03,\n",
       "         -9.13170457e-04,  -7.47551676e-05,   3.02042277e-03,\n",
       "          9.59819474e-04,   1.12480810e-03,   1.53318490e-03,\n",
       "          1.84713362e-03,  -8.68979201e-04,   7.90331513e-04,\n",
       "         -9.02860600e-04,   3.35698016e-03,  -3.85245105e-04,\n",
       "         -4.28674463e-03,   2.12377054e-03,   8.54370417e-04,\n",
       "          2.64909235e-04,   2.64566205e-03,   3.26965260e-03,\n",
       "         -1.52893981e-03,  -1.20551221e-03,   1.88354054e-03,\n",
       "          3.10739910e-04,  -1.05653156e-03,   1.69070356e-03,\n",
       "         -1.60104642e-03,  -5.75453974e-04,   6.53876923e-04,\n",
       "          4.64516273e-03,   4.12369205e-04,   1.93360180e-03,\n",
       "          4.73075733e-03,  -2.05944735e-03,   4.48972825e-03,\n",
       "          1.22208160e-03,   7.90712307e-04,   1.76762906e-03,\n",
       "         -1.38597708e-04,   2.79834284e-03,   2.30491185e-03,\n",
       "          2.21314258e-03,  -1.64840044e-03,   1.67142192e-04,\n",
       "          1.97846536e-03,   4.45428945e-04,   1.79780181e-03,\n",
       "         -3.59104364e-04,  -5.08223951e-04,  -9.15471057e-04,\n",
       "          2.11868412e-03,  -2.84384936e-04,   2.10891943e-03,\n",
       "          7.59402232e-04,   3.24802590e-04,   5.88366820e-04,\n",
       "          3.93191120e-03,   1.36123761e-03,   1.36143202e-03,\n",
       "         -4.54993948e-04,   6.97096053e-04], dtype=float32),\n",
       " array([[-0.00641378, -0.01963748,  0.02470369, ...,  0.00944127,\n",
       "          0.00971137, -0.06711149],\n",
       "        [-0.06718648,  0.02168787,  0.01680277, ..., -0.0279291 ,\n",
       "         -0.03309076,  0.04444682],\n",
       "        [-0.00743901, -0.00216128, -0.04034642, ..., -0.07290858,\n",
       "         -0.07944281,  0.02530499],\n",
       "        ..., \n",
       "        [-0.08185274,  0.04225174, -0.02345632, ...,  0.01025744,\n",
       "          0.02064792,  0.04107219],\n",
       "        [ 0.01942347, -0.03813148,  0.04026052, ..., -0.07805105,\n",
       "         -0.00448694, -0.03636052],\n",
       "        [-0.0777159 , -0.03141931, -0.06122598, ...,  0.03949287,\n",
       "         -0.03579837, -0.06611637]], dtype=float32),\n",
       " array([-0.00911016, -0.00862411, -0.00982485, -0.00662181, -0.00753248,\n",
       "        -0.00545466, -0.00953897, -0.00616904, -0.00449749, -0.00419759,\n",
       "        -0.00973022, -0.00769921, -0.00631907, -0.00378891, -0.00858139,\n",
       "        -0.00654523, -0.00591517, -0.0071184 , -0.00530294, -0.00831937,\n",
       "        -0.00633564, -0.00822656, -0.00770891, -0.00546202, -0.00578386,\n",
       "        -0.0095443 , -0.00667627, -0.00639759, -0.01007131, -0.00745709,\n",
       "        -0.00813327, -0.00847476, -0.0100286 , -0.00470817, -0.00538691,\n",
       "        -0.00704409, -0.0046519 , -0.00724879, -0.00416439, -0.00490297,\n",
       "        -0.00751342, -0.00680079, -0.00650942, -0.00566169, -0.00464053,\n",
       "        -0.00698798, -0.0059652 , -0.00464508, -0.00518242, -0.00892444,\n",
       "        -0.00548801, -0.00636778, -0.0081944 , -0.00730681, -0.00930296,\n",
       "        -0.00770369, -0.0040712 , -0.010192  , -0.00396501, -0.00585468,\n",
       "        -0.0073623 , -0.00817009, -0.00676082, -0.00702102, -0.00682273,\n",
       "        -0.00767353, -0.0104231 , -0.00787266, -0.00911211, -0.00769699,\n",
       "        -0.00738358, -0.00565352, -0.00859227, -0.00497354, -0.00541659,\n",
       "        -0.00564605, -0.00849991, -0.00753458, -0.00826827, -0.00241082,\n",
       "        -0.00623928, -0.00679374, -0.00647148, -0.00918009, -0.0076857 ,\n",
       "        -0.00662473, -0.00354222, -0.0069392 , -0.00656751, -0.00850121,\n",
       "        -0.00921942, -0.00852133, -0.00681001, -0.00477958, -0.00754638,\n",
       "        -0.00769103, -0.00933236, -0.00902856, -0.00564336, -0.00402047,\n",
       "        -0.00660562, -0.00882651, -0.00706462, -0.00837846, -0.00297453,\n",
       "        -0.00547285, -0.00982746, -0.00940757, -0.00485669, -0.00690874,\n",
       "        -0.00430433, -0.0080183 , -0.00476086, -0.00963184, -0.00755125,\n",
       "        -0.00723077, -0.00793889, -0.00594419, -0.00870337, -0.00716151,\n",
       "        -0.00932962, -0.00433827, -0.01096736, -0.00954797, -0.00595991,\n",
       "        -0.00841537, -0.00666283, -0.00917118, -0.00832049, -0.00810343,\n",
       "        -0.00815195, -0.00686046, -0.00533233, -0.00885115, -0.00967829,\n",
       "        -0.00567688, -0.0058835 , -0.00899709, -0.00851178, -0.00857015,\n",
       "        -0.0099083 , -0.00778689, -0.00802155, -0.00453127, -0.00874046,\n",
       "        -0.00932386, -0.0077889 , -0.0110293 , -0.00823427, -0.00496182,\n",
       "        -0.0077016 , -0.00719041, -0.0060166 , -0.00496267, -0.00629083,\n",
       "        -0.00929906, -0.0058716 , -0.00467357, -0.0045599 , -0.00707291,\n",
       "        -0.00472664, -0.00757843, -0.00823369, -0.00828734, -0.0111241 ,\n",
       "        -0.00804105, -0.00623336, -0.0048794 , -0.01053605, -0.00440797,\n",
       "        -0.00720823, -0.00718254, -0.00407048, -0.00547762, -0.00251628,\n",
       "        -0.00676501, -0.00816935, -0.00629895, -0.00734053, -0.00628795,\n",
       "        -0.00669396, -0.00866363, -0.00785462, -0.00796076, -0.00674227,\n",
       "        -0.00640822, -0.00724272, -0.00738268, -0.00824507, -0.00682486,\n",
       "        -0.00576816, -0.00392695, -0.0056853 , -0.00980487, -0.00428857,\n",
       "        -0.00722651, -0.00990099, -0.00607912, -0.00506391, -0.00739538,\n",
       "        -0.00945983, -0.00665248, -0.00724254, -0.00608059, -0.00712075,\n",
       "        -0.00944779, -0.0036054 , -0.00268824, -0.01052604, -0.00551552,\n",
       "        -0.00685072, -0.00875809, -0.00549218, -0.0037045 , -0.00782261,\n",
       "        -0.01124915, -0.0088523 , -0.00709423, -0.00653469, -0.00905464,\n",
       "        -0.00742716, -0.00502045, -0.00652616, -0.00653283, -0.00865388,\n",
       "        -0.00835515, -0.00881298, -0.00834025, -0.00813598, -0.00582384,\n",
       "        -0.00591982, -0.00473577, -0.00564857, -0.00762936, -0.00515508,\n",
       "        -0.0048807 , -0.00902067, -0.01018783, -0.00917775, -0.00759125,\n",
       "        -0.00649271, -0.00537723, -0.00644176, -0.00919288, -0.00580207,\n",
       "        -0.00644974, -0.00583819, -0.00296815, -0.00781554, -0.00657447,\n",
       "        -0.00722448, -0.00533838, -0.00734097, -0.0077914 , -0.00798876,\n",
       "        -0.00596947, -0.00903597, -0.00556962, -0.00555152, -0.00722854,\n",
       "        -0.0101309 , -0.00712489, -0.00687521, -0.00770255, -0.00319508,\n",
       "        -0.01033381, -0.00582979, -0.00906991, -0.00606454, -0.00675424,\n",
       "        -0.00534526, -0.00806739, -0.00712414, -0.00854308, -0.00688681,\n",
       "        -0.00676101, -0.0077479 , -0.01001745, -0.00592848, -0.00510067,\n",
       "        -0.00452553, -0.00462766, -0.00916865, -0.00723098, -0.01015806,\n",
       "        -0.0033074 , -0.00928742, -0.00871927, -0.00556697, -0.00914923,\n",
       "        -0.0062567 , -0.00710534, -0.00800431, -0.00685358, -0.00873374,\n",
       "        -0.00992902, -0.00557469, -0.01025498, -0.01024901, -0.00614265,\n",
       "        -0.00895732, -0.01034243, -0.0059607 , -0.00446652, -0.00475735,\n",
       "        -0.00803876, -0.00744729, -0.00678441, -0.00700058, -0.00492947,\n",
       "        -0.00446105, -0.00495815, -0.00976228, -0.00756522, -0.01203463,\n",
       "        -0.01085405, -0.00567538, -0.00822519, -0.00492599, -0.0102941 ,\n",
       "        -0.00524717, -0.00579714, -0.00839929, -0.00679694, -0.00702858,\n",
       "        -0.00796798, -0.00828435, -0.00771814, -0.00857874, -0.00399751,\n",
       "        -0.00767382, -0.00753616, -0.00893102, -0.00599556, -0.00621597,\n",
       "        -0.0054978 , -0.00289298, -0.00731506, -0.00779366, -0.00924012,\n",
       "        -0.00542032, -0.00475625, -0.00920357, -0.00475418, -0.00713231,\n",
       "        -0.00498702, -0.00919626, -0.00823682, -0.00529068, -0.00819076,\n",
       "        -0.00697925, -0.00848739, -0.00732185, -0.00651151, -0.00860289,\n",
       "        -0.00596991, -0.01013055, -0.00514483, -0.01027207, -0.00806141,\n",
       "        -0.00898083, -0.00988592, -0.00829435, -0.00559249, -0.00621063,\n",
       "        -0.0058111 , -0.00530934, -0.00806807, -0.00796066, -0.00833018,\n",
       "        -0.0049635 , -0.00597991, -0.0043361 , -0.00653683, -0.00936642,\n",
       "        -0.00941502, -0.00309998, -0.00705577, -0.00912944, -0.00694631,\n",
       "        -0.00696531, -0.00802403, -0.00817146, -0.00595542, -0.00827911,\n",
       "        -0.00867901, -0.00974506, -0.00850357, -0.00834314, -0.00753343,\n",
       "        -0.00598863, -0.00677232, -0.00704299, -0.00783734, -0.00938291,\n",
       "        -0.00316982, -0.00438521, -0.00543689, -0.0074295 , -0.00748981,\n",
       "        -0.00730679, -0.00551263, -0.00806171, -0.00714813, -0.00614586,\n",
       "        -0.00805715, -0.01095586, -0.00578498, -0.00748878, -0.00518067,\n",
       "        -0.00980441, -0.00969887, -0.00947724, -0.0054524 , -0.00669567,\n",
       "        -0.00946843, -0.00563377, -0.0090519 , -0.00511674, -0.00809698,\n",
       "        -0.00384062, -0.00520512, -0.00661128, -0.00614189, -0.00617647,\n",
       "        -0.00853858, -0.00916498, -0.00584224, -0.01149819, -0.00849799,\n",
       "        -0.00422723, -0.01060451, -0.00713719, -0.00682988, -0.00463376,\n",
       "        -0.00921255, -0.00676394, -0.00473118, -0.00550177, -0.00832987,\n",
       "        -0.00474288, -0.00531953, -0.00630294, -0.00556756, -0.00944415,\n",
       "        -0.00791525, -0.00907528, -0.00492084, -0.00764202, -0.01008473,\n",
       "        -0.00757065, -0.0038333 , -0.00908825, -0.00651183, -0.00558209,\n",
       "        -0.00442211, -0.00630947, -0.0079472 , -0.00556402, -0.00613457,\n",
       "        -0.00500417, -0.00501696, -0.01119121, -0.00770773, -0.00817452,\n",
       "        -0.00392326, -0.00648573, -0.00625174, -0.00881147, -0.00403848,\n",
       "        -0.01105422, -0.00660408, -0.00110939, -0.00726591, -0.00925069,\n",
       "        -0.00826532, -0.00526383, -0.00633461, -0.00732824, -0.00840555,\n",
       "        -0.00774662, -0.00537639, -0.00721864, -0.01068504, -0.01134111,\n",
       "        -0.0073152 , -0.0044085 , -0.00734162, -0.00716796, -0.00578017,\n",
       "        -0.00724851, -0.00875991, -0.00753192, -0.00794154, -0.00866459,\n",
       "        -0.00932764, -0.00970112, -0.00520293, -0.00782984, -0.0100683 ,\n",
       "        -0.00575863, -0.00385506, -0.00516829, -0.00746196, -0.00581892,\n",
       "        -0.00501112, -0.0056023 , -0.00604668, -0.00431866, -0.00272402,\n",
       "        -0.0069798 , -0.0074954 ], dtype=float32),\n",
       " array([[ 0.0515327 , -0.03958892, -0.00614438, ...,  0.036649  ,\n",
       "         -0.04109459, -0.02695703],\n",
       "        [-0.04834738,  0.07478181, -0.05705874, ..., -0.02726462,\n",
       "          0.02162277,  0.01633342],\n",
       "        [ 0.04243178,  0.04607589,  0.06116209, ..., -0.06053944,\n",
       "         -0.06740835, -0.07154252],\n",
       "        ..., \n",
       "        [ 0.02358577, -0.02253635,  0.05163551, ..., -0.02995258,\n",
       "         -0.04549057,  0.01636318],\n",
       "        [-0.00771724, -0.01640216,  0.00341079, ...,  0.00711851,\n",
       "         -0.00600322, -0.01601152],\n",
       "        [-0.05562082, -0.00031912,  0.02548798, ...,  0.061437  ,\n",
       "         -0.02169772,  0.02707465]], dtype=float32),\n",
       " array([ 0.00241445,  0.0036553 , -0.00124524,  0.00536338,  0.01622795,\n",
       "        -0.00431407,  0.00967037, -0.01528269,  0.01417396,  0.00108175], dtype=float32)]"
      ]
     },
     "execution_count": 12,
     "metadata": {},
     "output_type": "execute_result"
    }
   ],
   "source": [
    "model.get_weights()"
   ]
  },
  {
   "cell_type": "code",
   "execution_count": 13,
   "metadata": {
    "collapsed": false
   },
   "outputs": [
    {
     "name": "stdout",
     "output_type": "stream",
     "text": [
      "Train on 42000 samples, validate on 18000 samples\n",
      "Epoch 1/10\n",
      "42000/42000 [==============================] - 30s - loss: 0.0843 - acc: 0.3366 - val_loss: 0.0721 - val_acc: 0.7009\n",
      "Epoch 2/10\n",
      "42000/42000 [==============================] - 30s - loss: 0.0827 - acc: 0.3559 - val_loss: 0.0715 - val_acc: 0.6903\n",
      "Epoch 3/10\n",
      "42000/42000 [==============================] - 30s - loss: 0.0816 - acc: 0.3734 - val_loss: 0.0708 - val_acc: 0.6717\n",
      "Epoch 4/10\n",
      "42000/42000 [==============================] - 30s - loss: 0.0802 - acc: 0.3938 - val_loss: 0.0701 - val_acc: 0.7027\n",
      "Epoch 5/10\n",
      "42000/42000 [==============================] - 30s - loss: 0.0791 - acc: 0.4075 - val_loss: 0.0695 - val_acc: 0.7054\n",
      "Epoch 6/10\n",
      "42000/42000 [==============================] - 30s - loss: 0.0783 - acc: 0.4228 - val_loss: 0.0687 - val_acc: 0.7189\n",
      "Epoch 7/10\n",
      "42000/42000 [==============================] - 31s - loss: 0.0774 - acc: 0.4361 - val_loss: 0.0682 - val_acc: 0.6835\n",
      "Epoch 8/10\n",
      "42000/42000 [==============================] - 31s - loss: 0.0766 - acc: 0.4484 - val_loss: 0.0677 - val_acc: 0.7007\n",
      "Epoch 9/10\n",
      "42000/42000 [==============================] - 31s - loss: 0.0759 - acc: 0.4621 - val_loss: 0.0671 - val_acc: 0.7029\n",
      "Epoch 10/10\n",
      "42000/42000 [==============================] - 30s - loss: 0.0752 - acc: 0.4715 - val_loss: 0.0666 - val_acc: 0.6903\n",
      "{'acc': [0.3366190476190476, 0.35590476190476189, 0.37340476190476191, 0.39383333333333331, 0.40745238095238095, 0.4228095238095238, 0.43614285714285717, 0.44840476190476192, 0.46214285714285713, 0.47152380952380951], 'loss': [0.084287955420357843, 0.082666441451935538, 0.081577279590425031, 0.080177125726427351, 0.079117924202056156, 0.078305894085339139, 0.077434995991843086, 0.076617071702366785, 0.075904653180213208, 0.075205468228885103], 'val_acc': [0.70088888888888889, 0.69027777777777777, 0.67172222222222222, 0.70266666666666666, 0.70544444444444443, 0.7189444444444445, 0.6835, 0.70066666666666666, 0.70294444444444448, 0.69027777777777777], 'val_loss': [0.072095784028371176, 0.07146734367476569, 0.070817773713005919, 0.070088347448243035, 0.069535198085837899, 0.068738517926798928, 0.068243531041675146, 0.067700865626335149, 0.067069420907232502, 0.066561212453577254]}\n"
     ]
    }
   ],
   "source": [
    "hist = model.fit(X_train, Y_train, validation_split=0.3)\n",
    "print(hist.history)"
   ]
  },
  {
   "cell_type": "markdown",
   "metadata": {},
   "source": [
    "## Finally, evaluate its performance"
   ]
  },
  {
   "cell_type": "code",
   "execution_count": 14,
   "metadata": {
    "collapsed": false
   },
   "outputs": [
    {
     "name": "stderr",
     "output_type": "stream",
     "text": [
      "/usr/local/lib/python2.7/dist-packages/keras/models.py:644: UserWarning: The \"show_accuracy\" argument is deprecated, instead you should pass the \"accuracy\" metric to the model at compile time:\n",
      "`model.compile(optimizer, loss, metrics=[\"accuracy\"])`\n",
      "  warnings.warn('The \"show_accuracy\" argument is deprecated, '\n"
     ]
    },
    {
     "name": "stdout",
     "output_type": "stream",
     "text": [
      "('Test score:', 0.066366284036636358)\n",
      "('Test accuracy:', 0.69499999999999995)\n"
     ]
    }
   ],
   "source": [
    "score = model.evaluate(X_test, Y_test,\n",
    "                       show_accuracy=True, verbose=0)\n",
    "print('Test score:', score[0])\n",
    "print('Test accuracy:', score[1])"
   ]
  },
  {
   "cell_type": "markdown",
   "metadata": {},
   "source": [
    "### Inspecting the output\n",
    "\n",
    "It's always a good idea to inspect the output and make sure everything looks sane. Here we'll look at some examples it gets right, and some examples it gets wrong."
   ]
  },
  {
   "cell_type": "code",
   "execution_count": 15,
   "metadata": {
    "collapsed": false
   },
   "outputs": [
    {
     "name": "stdout",
     "output_type": "stream",
     "text": [
      "10000/10000 [==============================] - 2s     \n"
     ]
    }
   ],
   "source": [
    "# The predict_classes function outputs the highest probability class\n",
    "# according to the trained classifier for each input example.\n",
    "predicted_classes = model.predict_classes(X_test)\n",
    "\n",
    "# Check which items we got right / wrong\n",
    "correct_indices = np.nonzero(predicted_classes == y_test)[0]\n",
    "incorrect_indices = np.nonzero(predicted_classes != y_test)[0]"
   ]
  },
  {
   "cell_type": "code",
   "execution_count": 16,
   "metadata": {
    "collapsed": false
   },
   "outputs": [
    {
     "data": {
      "image/png": "[encoded data removed]",
      "text/plain": [
       "<matplotlib.figure.Figure at 0x7f151fbc6c10>"
      ]
     },
     "metadata": {},
     "output_type": "display_data"
    },
    {
     "data": {
      "image/png": "[encoded data removed]",
      "text/plain": [
       "<matplotlib.figure.Figure at 0x7f151fbc6810>"
      ]
     },
     "metadata": {},
     "output_type": "display_data"
    }
   ],
   "source": [
    "plt.figure()\n",
    "for i, correct in enumerate(correct_indices[:9]):\n",
    "    plt.subplot(3,3,i+1)\n",
    "    plt.imshow(X_test[correct].reshape(28,28), cmap='gray', interpolation='none')\n",
    "    plt.title(\"Predicted {}, Class {}\".format(predicted_classes[correct], y_test[correct]))\n",
    "    \n",
    "plt.figure()\n",
    "for i, incorrect in enumerate(incorrect_indices[:9]):\n",
    "    plt.subplot(3,3,i+1)\n",
    "    plt.imshow(X_test[incorrect].reshape(28,28), cmap='gray', interpolation='none')\n",
    "    plt.title(\"Predicted {}, Class {}\".format(predicted_classes[incorrect], y_test[incorrect]))"
   ]
  },
  {
   "cell_type": "code",
   "execution_count": 17,
   "metadata": {
    "collapsed": false
   },
   "outputs": [],
   "source": [
    "model.save_weights('/home/vita/Downloads/notebooks/weightsSGD.h5')"
   ]
  },
  {
   "cell_type": "code",
   "execution_count": 18,
   "metadata": {
    "collapsed": true
   },
   "outputs": [],
   "source": [
    "model.save('/home/vita/Downloads/notebooks/modelSGD.h5')"
   ]
  },
  {
   "cell_type": "markdown",
   "metadata": {},
   "source": [
    "## Lets use other optimizers and activation functions"
   ]
  },
  {
   "cell_type": "code",
   "execution_count": 19,
   "metadata": {
    "collapsed": true
   },
   "outputs": [],
   "source": [
    "model1 = Sequential()\n",
    "model1.add(Dense(512, input_shape=(784,)))\n",
    "model1.add(Activation('relu')) # An \"activation\" is just a non-linear function applied to the output\n",
    "                              # of the layer above. Here, with a \"rectified linear unit\",\n",
    "                              # we clamp all values below 0 to 0.\n",
    "                           \n",
    "model1.add(Dropout(0.2))   # Dropout helps protect the model from memorizing or \"overfitting\" the training data\n",
    "model1.add(Dense(512))\n",
    "model1.add(Activation('relu'))\n",
    "model1.add(Dropout(0.2))\n",
    "model1.add(Dense(10))\n",
    "model1.add(Activation('softmax')) # This special \"softmax\" activation among other things,\n",
    "                                 # ensures the output is a valid probaility distribution, that is\n",
    "                                 # that its values are all non-negative and sum to 1."
   ]
  },
  {
   "cell_type": "code",
   "execution_count": 20,
   "metadata": {
    "collapsed": true
   },
   "outputs": [],
   "source": [
    "model1.compile(loss='categorical_crossentropy', metrics=[\"accuracy\"], optimizer='adam')"
   ]
  },
  {
   "cell_type": "code",
   "execution_count": 21,
   "metadata": {
    "collapsed": false
   },
   "outputs": [
    {
     "name": "stdout",
     "output_type": "stream",
     "text": [
      "Train on 60000 samples, validate on 10000 samples\n",
      "Epoch 1/25\n",
      "60000/60000 [==============================] - 45s - loss: 0.2210 - acc: 0.9329 - val_loss: 0.1019 - val_acc: 0.9669\n",
      "Epoch 2/25\n",
      "60000/60000 [==============================] - 46s - loss: 0.1020 - acc: 0.9689 - val_loss: 0.0842 - val_acc: 0.9743\n",
      "Epoch 3/25\n",
      "60000/60000 [==============================] - 47s - loss: 0.0773 - acc: 0.9758 - val_loss: 0.0845 - val_acc: 0.9748\n",
      "Epoch 4/25\n",
      "60000/60000 [==============================] - 47s - loss: 0.0616 - acc: 0.9802 - val_loss: 0.0740 - val_acc: 0.9783\n",
      "Epoch 5/25\n",
      "60000/60000 [==============================] - 50s - loss: 0.0546 - acc: 0.9825 - val_loss: 0.0721 - val_acc: 0.9783\n",
      "Epoch 6/25\n",
      "60000/60000 [==============================] - 49s - loss: 0.0442 - acc: 0.9861 - val_loss: 0.0700 - val_acc: 0.9808\n",
      "Epoch 7/25\n",
      "60000/60000 [==============================] - 49s - loss: 0.0409 - acc: 0.9872 - val_loss: 0.0825 - val_acc: 0.9789\n",
      "Epoch 8/25\n",
      "60000/60000 [==============================] - 50s - loss: 0.0402 - acc: 0.9875 - val_loss: 0.0725 - val_acc: 0.9818\n",
      "Epoch 9/25\n",
      "60000/60000 [==============================] - 50s - loss: 0.0354 - acc: 0.9889 - val_loss: 0.0759 - val_acc: 0.9806\n",
      "Epoch 10/25\n",
      "60000/60000 [==============================] - 51s - loss: 0.0324 - acc: 0.9898 - val_loss: 0.0746 - val_acc: 0.9818\n",
      "Epoch 11/25\n",
      "60000/60000 [==============================] - 51s - loss: 0.0308 - acc: 0.9903 - val_loss: 0.0786 - val_acc: 0.9809\n",
      "Epoch 12/25\n",
      "60000/60000 [==============================] - 50s - loss: 0.0266 - acc: 0.9917 - val_loss: 0.0890 - val_acc: 0.9799\n",
      "Epoch 13/25\n",
      "60000/60000 [==============================] - 51s - loss: 0.0272 - acc: 0.9918 - val_loss: 0.0950 - val_acc: 0.9801\n",
      "Epoch 14/25\n",
      "60000/60000 [==============================] - 51s - loss: 0.0266 - acc: 0.9920 - val_loss: 0.0829 - val_acc: 0.9821\n",
      "Epoch 15/25\n",
      "60000/60000 [==============================] - 50s - loss: 0.0257 - acc: 0.9920 - val_loss: 0.0908 - val_acc: 0.9824\n",
      "Epoch 16/25\n",
      "60000/60000 [==============================] - 51s - loss: 0.0260 - acc: 0.9926 - val_loss: 0.0950 - val_acc: 0.9805\n",
      "Epoch 17/25\n",
      "60000/60000 [==============================] - 53s - loss: 0.0228 - acc: 0.9931 - val_loss: 0.0855 - val_acc: 0.9815\n",
      "Epoch 18/25\n",
      "60000/60000 [==============================] - 51s - loss: 0.0262 - acc: 0.9926 - val_loss: 0.0883 - val_acc: 0.9820\n",
      "Epoch 19/25\n",
      "60000/60000 [==============================] - 51s - loss: 0.0197 - acc: 0.9939 - val_loss: 0.0877 - val_acc: 0.9827\n",
      "Epoch 20/25\n",
      "60000/60000 [==============================] - 50s - loss: 0.0207 - acc: 0.9944 - val_loss: 0.0865 - val_acc: 0.9829\n",
      "Epoch 21/25\n",
      "60000/60000 [==============================] - 50s - loss: 0.0224 - acc: 0.9935 - val_loss: 0.0955 - val_acc: 0.9807\n",
      "Epoch 22/25\n",
      "60000/60000 [==============================] - 51s - loss: 0.0236 - acc: 0.9933 - val_loss: 0.0888 - val_acc: 0.9828\n",
      "Epoch 23/25\n",
      "60000/60000 [==============================] - 51s - loss: 0.0216 - acc: 0.9940 - val_loss: 0.0980 - val_acc: 0.9824\n",
      "Epoch 24/25\n",
      "60000/60000 [==============================] - 50s - loss: 0.0188 - acc: 0.9949 - val_loss: 0.1009 - val_acc: 0.9835\n",
      "Epoch 25/25\n",
      "60000/60000 [==============================] - 50s - loss: 0.0200 - acc: 0.9945 - val_loss: 0.1011 - val_acc: 0.9827\n"
     ]
    },
    {
     "data": {
      "text/plain": [
       "<keras.callbacks.History at 0x7f1510315990>"
      ]
     },
     "execution_count": 21,
     "metadata": {},
     "output_type": "execute_result"
    }
   ],
   "source": [
    "model1.fit(X_train, Y_train,\n",
    "          batch_size=50, nb_epoch=10,\n",
    "          show_accuracy=True, verbose=1,\n",
    "          validation_data=(X_test, Y_test))"
   ]
  },
  {
   "cell_type": "code",
   "execution_count": 22,
   "metadata": {
    "collapsed": false
   },
   "outputs": [
    {
     "name": "stdout",
     "output_type": "stream",
     "text": [
      "('Test score:', 0.10114315746130838)\n",
      "('Test accuracy:', 0.98270000000000002)\n"
     ]
    }
   ],
   "source": [
    "score1 = model1.evaluate(X_test, Y_test,\n",
    "                       show_accuracy=True, verbose=0)\n",
    "print('Test score:', score1[0])\n",
    "print('Test accuracy:', score1[1])"
   ]
  },
  {
   "cell_type": "code",
   "execution_count": 24,
   "metadata": {
    "collapsed": false
   },
   "outputs": [],
   "source": [
    "model1.save_weights('/home/vita/Downloads/notebooks/weightsCCE.h5')"
   ]
  },
  {
   "cell_type": "code",
   "execution_count": 25,
   "metadata": {
    "collapsed": true
   },
   "outputs": [],
   "source": [
    "model1.save('/home/vita/Downloads/notebooks/modelCCE.h5')"
   ]
  },
  {
   "cell_type": "code",
   "execution_count": null,
   "metadata": {
    "collapsed": true
   },
   "outputs": [],
   "source": []
  }
 ],
 "metadata": {
  "kernelspec": {
   "display_name": "Python 2",
   "language": "python",
   "name": "python2"
  },
  "language_info": {
   "codemirror_mode": {
    "name": "ipython",
    "version": 2
   },
   "file_extension": ".py",
   "mimetype": "text/x-python",
   "name": "python",
   "nbconvert_exporter": "python",
   "pygments_lexer": "ipython2",
   "version": "2.7.12"
  }
 },
 "nbformat": 4,
 "nbformat_minor": 0
}
